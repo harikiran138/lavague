{
  "cells": [
    {
      "cell_type": "markdown",
      "metadata": {
        "id": "57cUBU_kW8YI"
      },
      "source": [
        "# Quick Tour\n",
        "\n",
        "<a target=\"_blank\" href=\"https://colab.research.google.com/github/lavague-ai/LaVague/blob/main/docs/docs/get-started/quick-tour-notebook/quick-tour.ipynb\">\n",
        "<img src=\"https://colab.research.google.com/assets/colab-badge.svg\" alt=\"Open In Colab\"></a>"
      ]
    },
    {
      "cell_type": "markdown",
      "metadata": {
        "id": "RBcpVSR6fwT-"
      },
      "source": [
        "## Pre-requisites\n",
        "\n",
        "**Note**: We use OpenAI's models, for the embedding, LLM and Vision model. You will need to set the OPENAI_API_KEY variable in your local environment with a valid API key for this example to work.\n",
        "\n",
        "If you don't have an OpenAI API key, please get one here: https://platform.openai.com/docs/quickstart/developer-quickstart"
      ]
    },
    {
      "cell_type": "markdown",
      "metadata": {
        "id": "rAFBONJcd8mI"
      },
      "source": [
        "# Installation\n",
        "\n",
        "We start by download LaVague."
      ]
    },
    {
      "cell_type": "code",
      "execution_count": 1,
      "metadata": {
        "colab": {
          "base_uri": "https://localhost:8080/"
        },
        "id": "E6TVyo2uGrJq",
        "outputId": "aa8dd581-07f4-4859-9811-8768ed9ee726"
      },
      "outputs": [
        {
          "output_type": "stream",
          "name": "stdout",
          "text": [
            "Requirement already satisfied: lavague in /usr/local/lib/python3.11/dist-packages (1.1.19)\n",
            "Requirement already satisfied: lavague-contexts-openai<0.3.0,>=0.2.0 in /usr/local/lib/python3.11/dist-packages (from lavague) (0.2.4)\n",
            "Requirement already satisfied: lavague-core<0.3.0,>=0.2.31 in /usr/local/lib/python3.11/dist-packages (from lavague) (0.2.35)\n",
            "Requirement already satisfied: lavague-drivers-selenium<0.3.0,>=0.2.12 in /usr/local/lib/python3.11/dist-packages (from lavague) (0.2.15)\n",
            "Requirement already satisfied: lavague-gradio<0.3.0,>=0.2.8 in /usr/local/lib/python3.11/dist-packages (from lavague) (0.2.8)\n",
            "Requirement already satisfied: llama-index-embeddings-azure-openai==0.1.11 in /usr/local/lib/python3.11/dist-packages (from lavague-contexts-openai<0.3.0,>=0.2.0->lavague) (0.1.11)\n",
            "Requirement already satisfied: llama-index-embeddings-openai<0.2.0,>=0.1.9 in /usr/local/lib/python3.11/dist-packages (from lavague-contexts-openai<0.3.0,>=0.2.0->lavague) (0.1.11)\n",
            "Requirement already satisfied: llama-index-llms-azure-openai==0.1.10 in /usr/local/lib/python3.11/dist-packages (from lavague-contexts-openai<0.3.0,>=0.2.0->lavague) (0.1.10)\n",
            "Requirement already satisfied: llama-index-llms-openai<0.2.0,>=0.1.9 in /usr/local/lib/python3.11/dist-packages (from lavague-contexts-openai<0.3.0,>=0.2.0->lavague) (0.1.26)\n",
            "Requirement already satisfied: llama-index-multi-modal-llms-azure-openai==0.1.4 in /usr/local/lib/python3.11/dist-packages (from lavague-contexts-openai<0.3.0,>=0.2.0->lavague) (0.1.4)\n",
            "Requirement already satisfied: llama-index-multi-modal-llms-openai<0.2.0,>=0.1.6 in /usr/local/lib/python3.11/dist-packages (from lavague-contexts-openai<0.3.0,>=0.2.0->lavague) (0.1.9)\n",
            "Requirement already satisfied: llama-index-core<0.11.0,>=0.10.11.post1 in /usr/local/lib/python3.11/dist-packages (from llama-index-embeddings-azure-openai==0.1.11->lavague-contexts-openai<0.3.0,>=0.2.0->lavague) (0.10.56)\n",
            "Requirement already satisfied: azure-identity<2.0.0,>=1.15.0 in /usr/local/lib/python3.11/dist-packages (from llama-index-llms-azure-openai==0.1.10->lavague-contexts-openai<0.3.0,>=0.2.0->lavague) (1.21.0)\n",
            "Requirement already satisfied: httpx in /usr/local/lib/python3.11/dist-packages (from llama-index-llms-azure-openai==0.1.10->lavague-contexts-openai<0.3.0,>=0.2.0->lavague) (0.28.1)\n",
            "Requirement already satisfied: PyYAML>=5.3 in /usr/local/lib/python3.11/dist-packages (from lavague-core<0.3.0,>=0.2.31->lavague) (6.0.2)\n",
            "Requirement already satisfied: ipython<8.0.0,>=7.34.0 in /usr/local/lib/python3.11/dist-packages (from lavague-core<0.3.0,>=0.2.31->lavague) (7.34.0)\n",
            "Requirement already satisfied: jsonschema<5.0.0,>=4.23.0 in /usr/local/lib/python3.11/dist-packages (from lavague-core<0.3.0,>=0.2.31->lavague) (4.23.0)\n",
            "Requirement already satisfied: langchain<0.2.0,>=0.1.20 in /usr/local/lib/python3.11/dist-packages (from lavague-core<0.3.0,>=0.2.31->lavague) (0.1.20)\n",
            "Requirement already satisfied: llama-index==0.10.56 in /usr/local/lib/python3.11/dist-packages (from lavague-core<0.3.0,>=0.2.31->lavague) (0.10.56)\n",
            "Requirement already satisfied: llama-index-retrievers-bm25<0.2.0,>=0.1.3 in /usr/local/lib/python3.11/dist-packages (from lavague-core<0.3.0,>=0.2.31->lavague) (0.1.5)\n",
            "Requirement already satisfied: lxml<6.0.0,>=5.1.1 in /usr/local/lib/python3.11/dist-packages (from lavague-core<0.3.0,>=0.2.31->lavague) (5.3.1)\n",
            "Requirement already satisfied: lxml-html-clean<0.2.0,>=0.1.1 in /usr/local/lib/python3.11/dist-packages (from lavague-core<0.3.0,>=0.2.31->lavague) (0.1.1)\n",
            "Requirement already satisfied: msgpack<2.0.0,>=1.0.8 in /usr/local/lib/python3.11/dist-packages (from lavague-core<0.3.0,>=0.2.31->lavague) (1.1.0)\n",
            "Requirement already satisfied: seaborn<0.14.0,>=0.13.2 in /usr/local/lib/python3.11/dist-packages (from lavague-core<0.3.0,>=0.2.31->lavague) (0.13.2)\n",
            "Requirement already satisfied: tenacity<8.4.0,>=8.2.0 in /usr/local/lib/python3.11/dist-packages (from lavague-core<0.3.0,>=0.2.31->lavague) (8.3.0)\n",
            "Requirement already satisfied: trafilatura<2.0.0,>=1.9.0 in /usr/local/lib/python3.11/dist-packages (from lavague-core<0.3.0,>=0.2.31->lavague) (1.12.2)\n",
            "Requirement already satisfied: llama-index-agent-openai<0.3.0,>=0.1.4 in /usr/local/lib/python3.11/dist-packages (from llama-index==0.10.56->lavague-core<0.3.0,>=0.2.31->lavague) (0.2.9)\n",
            "Requirement already satisfied: llama-index-cli<0.2.0,>=0.1.2 in /usr/local/lib/python3.11/dist-packages (from llama-index==0.10.56->lavague-core<0.3.0,>=0.2.31->lavague) (0.1.13)\n",
            "Requirement already satisfied: llama-index-indices-managed-llama-cloud>=0.2.0 in /usr/local/lib/python3.11/dist-packages (from llama-index==0.10.56->lavague-core<0.3.0,>=0.2.31->lavague) (0.2.7)\n",
            "Requirement already satisfied: llama-index-legacy<0.10.0,>=0.9.48 in /usr/local/lib/python3.11/dist-packages (from llama-index==0.10.56->lavague-core<0.3.0,>=0.2.31->lavague) (0.9.48.post4)\n",
            "Requirement already satisfied: llama-index-program-openai<0.2.0,>=0.1.3 in /usr/local/lib/python3.11/dist-packages (from llama-index==0.10.56->lavague-core<0.3.0,>=0.2.31->lavague) (0.1.6)\n",
            "Requirement already satisfied: llama-index-question-gen-openai<0.2.0,>=0.1.2 in /usr/local/lib/python3.11/dist-packages (from llama-index==0.10.56->lavague-core<0.3.0,>=0.2.31->lavague) (0.1.3)\n",
            "Requirement already satisfied: llama-index-readers-file<0.2.0,>=0.1.4 in /usr/local/lib/python3.11/dist-packages (from llama-index==0.10.56->lavague-core<0.3.0,>=0.2.31->lavague) (0.1.33)\n",
            "Requirement already satisfied: llama-index-readers-llama-parse>=0.1.2 in /usr/local/lib/python3.11/dist-packages (from llama-index==0.10.56->lavague-core<0.3.0,>=0.2.31->lavague) (0.1.6)\n",
            "Requirement already satisfied: SQLAlchemy>=1.4.49 in /usr/local/lib/python3.11/dist-packages (from SQLAlchemy[asyncio]>=1.4.49->llama-index-core<0.11.0,>=0.10.11.post1->llama-index-embeddings-azure-openai==0.1.11->lavague-contexts-openai<0.3.0,>=0.2.0->lavague) (2.0.38)\n",
            "Requirement already satisfied: aiohttp<4.0.0,>=3.8.6 in /usr/local/lib/python3.11/dist-packages (from llama-index-core<0.11.0,>=0.10.11.post1->llama-index-embeddings-azure-openai==0.1.11->lavague-contexts-openai<0.3.0,>=0.2.0->lavague) (3.11.13)\n",
            "Requirement already satisfied: dataclasses-json in /usr/local/lib/python3.11/dist-packages (from llama-index-core<0.11.0,>=0.10.11.post1->llama-index-embeddings-azure-openai==0.1.11->lavague-contexts-openai<0.3.0,>=0.2.0->lavague) (0.6.7)\n",
            "Requirement already satisfied: deprecated>=1.2.9.3 in /usr/local/lib/python3.11/dist-packages (from llama-index-core<0.11.0,>=0.10.11.post1->llama-index-embeddings-azure-openai==0.1.11->lavague-contexts-openai<0.3.0,>=0.2.0->lavague) (1.2.18)\n",
            "Requirement already satisfied: dirtyjson<2.0.0,>=1.0.8 in /usr/local/lib/python3.11/dist-packages (from llama-index-core<0.11.0,>=0.10.11.post1->llama-index-embeddings-azure-openai==0.1.11->lavague-contexts-openai<0.3.0,>=0.2.0->lavague) (1.0.8)\n",
            "Requirement already satisfied: fsspec>=2023.5.0 in /usr/local/lib/python3.11/dist-packages (from llama-index-core<0.11.0,>=0.10.11.post1->llama-index-embeddings-azure-openai==0.1.11->lavague-contexts-openai<0.3.0,>=0.2.0->lavague) (2024.10.0)\n",
            "Requirement already satisfied: nest-asyncio<2.0.0,>=1.5.8 in /usr/local/lib/python3.11/dist-packages (from llama-index-core<0.11.0,>=0.10.11.post1->llama-index-embeddings-azure-openai==0.1.11->lavague-contexts-openai<0.3.0,>=0.2.0->lavague) (1.6.0)\n",
            "Requirement already satisfied: networkx>=3.0 in /usr/local/lib/python3.11/dist-packages (from llama-index-core<0.11.0,>=0.10.11.post1->llama-index-embeddings-azure-openai==0.1.11->lavague-contexts-openai<0.3.0,>=0.2.0->lavague) (3.4.2)\n",
            "Requirement already satisfied: nltk<4.0.0,>=3.8.1 in /usr/local/lib/python3.11/dist-packages (from llama-index-core<0.11.0,>=0.10.11.post1->llama-index-embeddings-azure-openai==0.1.11->lavague-contexts-openai<0.3.0,>=0.2.0->lavague) (3.9.1)\n",
            "Requirement already satisfied: numpy<2.0.0 in /usr/local/lib/python3.11/dist-packages (from llama-index-core<0.11.0,>=0.10.11.post1->llama-index-embeddings-azure-openai==0.1.11->lavague-contexts-openai<0.3.0,>=0.2.0->lavague) (1.26.4)\n",
            "Requirement already satisfied: openai>=1.1.0 in /usr/local/lib/python3.11/dist-packages (from llama-index-core<0.11.0,>=0.10.11.post1->llama-index-embeddings-azure-openai==0.1.11->lavague-contexts-openai<0.3.0,>=0.2.0->lavague) (1.61.1)\n",
            "Requirement already satisfied: pandas in /usr/local/lib/python3.11/dist-packages (from llama-index-core<0.11.0,>=0.10.11.post1->llama-index-embeddings-azure-openai==0.1.11->lavague-contexts-openai<0.3.0,>=0.2.0->lavague) (2.2.2)\n",
            "Requirement already satisfied: pillow>=9.0.0 in /usr/local/lib/python3.11/dist-packages (from llama-index-core<0.11.0,>=0.10.11.post1->llama-index-embeddings-azure-openai==0.1.11->lavague-contexts-openai<0.3.0,>=0.2.0->lavague) (10.4.0)\n",
            "Requirement already satisfied: requests>=2.31.0 in /usr/local/lib/python3.11/dist-packages (from llama-index-core<0.11.0,>=0.10.11.post1->llama-index-embeddings-azure-openai==0.1.11->lavague-contexts-openai<0.3.0,>=0.2.0->lavague) (2.32.3)\n",
            "Requirement already satisfied: tiktoken>=0.3.3 in /usr/local/lib/python3.11/dist-packages (from llama-index-core<0.11.0,>=0.10.11.post1->llama-index-embeddings-azure-openai==0.1.11->lavague-contexts-openai<0.3.0,>=0.2.0->lavague) (0.9.0)\n",
            "Requirement already satisfied: tqdm<5.0.0,>=4.66.1 in /usr/local/lib/python3.11/dist-packages (from llama-index-core<0.11.0,>=0.10.11.post1->llama-index-embeddings-azure-openai==0.1.11->lavague-contexts-openai<0.3.0,>=0.2.0->lavague) (4.67.1)\n",
            "Requirement already satisfied: typing-extensions>=4.5.0 in /usr/local/lib/python3.11/dist-packages (from llama-index-core<0.11.0,>=0.10.11.post1->llama-index-embeddings-azure-openai==0.1.11->lavague-contexts-openai<0.3.0,>=0.2.0->lavague) (4.12.2)\n",
            "Requirement already satisfied: typing-inspect>=0.8.0 in /usr/local/lib/python3.11/dist-packages (from llama-index-core<0.11.0,>=0.10.11.post1->llama-index-embeddings-azure-openai==0.1.11->lavague-contexts-openai<0.3.0,>=0.2.0->lavague) (0.9.0)\n",
            "Requirement already satisfied: wrapt in /usr/local/lib/python3.11/dist-packages (from llama-index-core<0.11.0,>=0.10.11.post1->llama-index-embeddings-azure-openai==0.1.11->lavague-contexts-openai<0.3.0,>=0.2.0->lavague) (1.17.2)\n",
            "Requirement already satisfied: selenium<5.0.0,>=4.18.1 in /usr/local/lib/python3.11/dist-packages (from lavague-drivers-selenium<0.3.0,>=0.2.12->lavague) (4.29.0)\n",
            "Requirement already satisfied: gradio==4.39.0 in /usr/local/lib/python3.11/dist-packages (from lavague-gradio<0.3.0,>=0.2.8->lavague) (4.39.0)\n",
            "Requirement already satisfied: aiofiles<24.0,>=22.0 in /usr/local/lib/python3.11/dist-packages (from gradio==4.39.0->lavague-gradio<0.3.0,>=0.2.8->lavague) (23.2.1)\n",
            "Requirement already satisfied: anyio<5.0,>=3.0 in /usr/local/lib/python3.11/dist-packages (from gradio==4.39.0->lavague-gradio<0.3.0,>=0.2.8->lavague) (3.7.1)\n",
            "Requirement already satisfied: fastapi in /usr/local/lib/python3.11/dist-packages (from gradio==4.39.0->lavague-gradio<0.3.0,>=0.2.8->lavague) (0.115.11)\n",
            "Requirement already satisfied: ffmpy in /usr/local/lib/python3.11/dist-packages (from gradio==4.39.0->lavague-gradio<0.3.0,>=0.2.8->lavague) (0.5.0)\n",
            "Requirement already satisfied: gradio-client==1.1.1 in /usr/local/lib/python3.11/dist-packages (from gradio==4.39.0->lavague-gradio<0.3.0,>=0.2.8->lavague) (1.1.1)\n",
            "Requirement already satisfied: huggingface-hub>=0.19.3 in /usr/local/lib/python3.11/dist-packages (from gradio==4.39.0->lavague-gradio<0.3.0,>=0.2.8->lavague) (0.28.1)\n",
            "Requirement already satisfied: importlib-resources<7.0,>=1.3 in /usr/local/lib/python3.11/dist-packages (from gradio==4.39.0->lavague-gradio<0.3.0,>=0.2.8->lavague) (6.5.2)\n",
            "Requirement already satisfied: jinja2<4.0 in /usr/local/lib/python3.11/dist-packages (from gradio==4.39.0->lavague-gradio<0.3.0,>=0.2.8->lavague) (3.1.6)\n",
            "Requirement already satisfied: markupsafe~=2.0 in /usr/local/lib/python3.11/dist-packages (from gradio==4.39.0->lavague-gradio<0.3.0,>=0.2.8->lavague) (2.1.5)\n",
            "Requirement already satisfied: matplotlib~=3.0 in /usr/local/lib/python3.11/dist-packages (from gradio==4.39.0->lavague-gradio<0.3.0,>=0.2.8->lavague) (3.10.0)\n",
            "Requirement already satisfied: orjson~=3.0 in /usr/local/lib/python3.11/dist-packages (from gradio==4.39.0->lavague-gradio<0.3.0,>=0.2.8->lavague) (3.10.15)\n",
            "Requirement already satisfied: packaging in /usr/local/lib/python3.11/dist-packages (from gradio==4.39.0->lavague-gradio<0.3.0,>=0.2.8->lavague) (23.2)\n",
            "Requirement already satisfied: pydantic>=2.0 in /usr/local/lib/python3.11/dist-packages (from gradio==4.39.0->lavague-gradio<0.3.0,>=0.2.8->lavague) (2.10.6)\n",
            "Requirement already satisfied: pydub in /usr/local/lib/python3.11/dist-packages (from gradio==4.39.0->lavague-gradio<0.3.0,>=0.2.8->lavague) (0.25.1)\n",
            "Requirement already satisfied: python-multipart>=0.0.9 in /usr/local/lib/python3.11/dist-packages (from gradio==4.39.0->lavague-gradio<0.3.0,>=0.2.8->lavague) (0.0.20)\n",
            "Requirement already satisfied: ruff>=0.2.2 in /usr/local/lib/python3.11/dist-packages (from gradio==4.39.0->lavague-gradio<0.3.0,>=0.2.8->lavague) (0.9.10)\n",
            "Requirement already satisfied: semantic-version~=2.0 in /usr/local/lib/python3.11/dist-packages (from gradio==4.39.0->lavague-gradio<0.3.0,>=0.2.8->lavague) (2.10.0)\n",
            "Requirement already satisfied: tomlkit==0.12.0 in /usr/local/lib/python3.11/dist-packages (from gradio==4.39.0->lavague-gradio<0.3.0,>=0.2.8->lavague) (0.12.0)\n",
            "Requirement already satisfied: typer<1.0,>=0.12 in /usr/local/lib/python3.11/dist-packages (from gradio==4.39.0->lavague-gradio<0.3.0,>=0.2.8->lavague) (0.15.2)\n",
            "Requirement already satisfied: urllib3~=2.0 in /usr/local/lib/python3.11/dist-packages (from gradio==4.39.0->lavague-gradio<0.3.0,>=0.2.8->lavague) (2.3.0)\n",
            "Requirement already satisfied: uvicorn>=0.14.0 in /usr/local/lib/python3.11/dist-packages (from gradio==4.39.0->lavague-gradio<0.3.0,>=0.2.8->lavague) (0.34.0)\n",
            "Requirement already satisfied: websockets<12.0,>=10.0 in /usr/local/lib/python3.11/dist-packages (from gradio-client==1.1.1->gradio==4.39.0->lavague-gradio<0.3.0,>=0.2.8->lavague) (11.0.3)\n",
            "Requirement already satisfied: setuptools>=18.5 in /usr/local/lib/python3.11/dist-packages (from ipython<8.0.0,>=7.34.0->lavague-core<0.3.0,>=0.2.31->lavague) (75.1.0)\n",
            "Requirement already satisfied: jedi>=0.16 in /usr/local/lib/python3.11/dist-packages (from ipython<8.0.0,>=7.34.0->lavague-core<0.3.0,>=0.2.31->lavague) (0.19.2)\n",
            "Requirement already satisfied: decorator in /usr/local/lib/python3.11/dist-packages (from ipython<8.0.0,>=7.34.0->lavague-core<0.3.0,>=0.2.31->lavague) (4.4.2)\n",
            "Requirement already satisfied: pickleshare in /usr/local/lib/python3.11/dist-packages (from ipython<8.0.0,>=7.34.0->lavague-core<0.3.0,>=0.2.31->lavague) (0.7.5)\n",
            "Requirement already satisfied: traitlets>=4.2 in /usr/local/lib/python3.11/dist-packages (from ipython<8.0.0,>=7.34.0->lavague-core<0.3.0,>=0.2.31->lavague) (5.7.1)\n",
            "Requirement already satisfied: prompt-toolkit!=3.0.0,!=3.0.1,<3.1.0,>=2.0.0 in /usr/local/lib/python3.11/dist-packages (from ipython<8.0.0,>=7.34.0->lavague-core<0.3.0,>=0.2.31->lavague) (3.0.50)\n",
            "Requirement already satisfied: pygments in /usr/local/lib/python3.11/dist-packages (from ipython<8.0.0,>=7.34.0->lavague-core<0.3.0,>=0.2.31->lavague) (2.18.0)\n",
            "Requirement already satisfied: backcall in /usr/local/lib/python3.11/dist-packages (from ipython<8.0.0,>=7.34.0->lavague-core<0.3.0,>=0.2.31->lavague) (0.2.0)\n",
            "Requirement already satisfied: matplotlib-inline in /usr/local/lib/python3.11/dist-packages (from ipython<8.0.0,>=7.34.0->lavague-core<0.3.0,>=0.2.31->lavague) (0.1.7)\n",
            "Requirement already satisfied: pexpect>4.3 in /usr/local/lib/python3.11/dist-packages (from ipython<8.0.0,>=7.34.0->lavague-core<0.3.0,>=0.2.31->lavague) (4.9.0)\n",
            "Requirement already satisfied: attrs>=22.2.0 in /usr/local/lib/python3.11/dist-packages (from jsonschema<5.0.0,>=4.23.0->lavague-core<0.3.0,>=0.2.31->lavague) (25.1.0)\n",
            "Requirement already satisfied: jsonschema-specifications>=2023.03.6 in /usr/local/lib/python3.11/dist-packages (from jsonschema<5.0.0,>=4.23.0->lavague-core<0.3.0,>=0.2.31->lavague) (2024.10.1)\n",
            "Requirement already satisfied: referencing>=0.28.4 in /usr/local/lib/python3.11/dist-packages (from jsonschema<5.0.0,>=4.23.0->lavague-core<0.3.0,>=0.2.31->lavague) (0.36.2)\n",
            "Requirement already satisfied: rpds-py>=0.7.1 in /usr/local/lib/python3.11/dist-packages (from jsonschema<5.0.0,>=4.23.0->lavague-core<0.3.0,>=0.2.31->lavague) (0.23.1)\n",
            "Requirement already satisfied: langchain-community<0.1,>=0.0.38 in /usr/local/lib/python3.11/dist-packages (from langchain<0.2.0,>=0.1.20->lavague-core<0.3.0,>=0.2.31->lavague) (0.0.38)\n",
            "Requirement already satisfied: langchain-core<0.2.0,>=0.1.52 in /usr/local/lib/python3.11/dist-packages (from langchain<0.2.0,>=0.1.20->lavague-core<0.3.0,>=0.2.31->lavague) (0.1.53)\n",
            "Requirement already satisfied: langchain-text-splitters<0.1,>=0.0.1 in /usr/local/lib/python3.11/dist-packages (from langchain<0.2.0,>=0.1.20->lavague-core<0.3.0,>=0.2.31->lavague) (0.0.2)\n",
            "Requirement already satisfied: langsmith<0.2.0,>=0.1.17 in /usr/local/lib/python3.11/dist-packages (from langchain<0.2.0,>=0.1.20->lavague-core<0.3.0,>=0.2.31->lavague) (0.1.147)\n",
            "Requirement already satisfied: rank-bm25<0.3.0,>=0.2.2 in /usr/local/lib/python3.11/dist-packages (from llama-index-retrievers-bm25<0.2.0,>=0.1.3->lavague-core<0.3.0,>=0.2.31->lavague) (0.2.2)\n",
            "Requirement already satisfied: trio~=0.17 in /usr/local/lib/python3.11/dist-packages (from selenium<5.0.0,>=4.18.1->lavague-drivers-selenium<0.3.0,>=0.2.12->lavague) (0.29.0)\n",
            "Requirement already satisfied: trio-websocket~=0.9 in /usr/local/lib/python3.11/dist-packages (from selenium<5.0.0,>=4.18.1->lavague-drivers-selenium<0.3.0,>=0.2.12->lavague) (0.12.2)\n",
            "Requirement already satisfied: certifi>=2021.10.8 in /usr/local/lib/python3.11/dist-packages (from selenium<5.0.0,>=4.18.1->lavague-drivers-selenium<0.3.0,>=0.2.12->lavague) (2025.1.31)\n",
            "Requirement already satisfied: websocket-client~=1.8 in /usr/local/lib/python3.11/dist-packages (from selenium<5.0.0,>=4.18.1->lavague-drivers-selenium<0.3.0,>=0.2.12->lavague) (1.8.0)\n",
            "Requirement already satisfied: courlan>=1.2.0 in /usr/local/lib/python3.11/dist-packages (from trafilatura<2.0.0,>=1.9.0->lavague-core<0.3.0,>=0.2.31->lavague) (1.3.2)\n",
            "Requirement already satisfied: htmldate>=1.8.1 in /usr/local/lib/python3.11/dist-packages (from trafilatura<2.0.0,>=1.9.0->lavague-core<0.3.0,>=0.2.31->lavague) (1.9.3)\n",
            "Requirement already satisfied: justext>=3.0.1 in /usr/local/lib/python3.11/dist-packages (from trafilatura<2.0.0,>=1.9.0->lavague-core<0.3.0,>=0.2.31->lavague) (3.0.2)\n",
            "Requirement already satisfied: charset-normalizer>=3.2.0 in /usr/local/lib/python3.11/dist-packages (from trafilatura<2.0.0,>=1.9.0->lavague-core<0.3.0,>=0.2.31->lavague) (3.4.1)\n",
            "Requirement already satisfied: aiohappyeyeballs>=2.3.0 in /usr/local/lib/python3.11/dist-packages (from aiohttp<4.0.0,>=3.8.6->llama-index-core<0.11.0,>=0.10.11.post1->llama-index-embeddings-azure-openai==0.1.11->lavague-contexts-openai<0.3.0,>=0.2.0->lavague) (2.5.0)\n",
            "Requirement already satisfied: aiosignal>=1.1.2 in /usr/local/lib/python3.11/dist-packages (from aiohttp<4.0.0,>=3.8.6->llama-index-core<0.11.0,>=0.10.11.post1->llama-index-embeddings-azure-openai==0.1.11->lavague-contexts-openai<0.3.0,>=0.2.0->lavague) (1.3.2)\n",
            "Requirement already satisfied: frozenlist>=1.1.1 in /usr/local/lib/python3.11/dist-packages (from aiohttp<4.0.0,>=3.8.6->llama-index-core<0.11.0,>=0.10.11.post1->llama-index-embeddings-azure-openai==0.1.11->lavague-contexts-openai<0.3.0,>=0.2.0->lavague) (1.5.0)\n",
            "Requirement already satisfied: multidict<7.0,>=4.5 in /usr/local/lib/python3.11/dist-packages (from aiohttp<4.0.0,>=3.8.6->llama-index-core<0.11.0,>=0.10.11.post1->llama-index-embeddings-azure-openai==0.1.11->lavague-contexts-openai<0.3.0,>=0.2.0->lavague) (6.1.0)\n",
            "Requirement already satisfied: propcache>=0.2.0 in /usr/local/lib/python3.11/dist-packages (from aiohttp<4.0.0,>=3.8.6->llama-index-core<0.11.0,>=0.10.11.post1->llama-index-embeddings-azure-openai==0.1.11->lavague-contexts-openai<0.3.0,>=0.2.0->lavague) (0.3.0)\n",
            "Requirement already satisfied: yarl<2.0,>=1.17.0 in /usr/local/lib/python3.11/dist-packages (from aiohttp<4.0.0,>=3.8.6->llama-index-core<0.11.0,>=0.10.11.post1->llama-index-embeddings-azure-openai==0.1.11->lavague-contexts-openai<0.3.0,>=0.2.0->lavague) (1.18.3)\n",
            "Requirement already satisfied: idna>=2.8 in /usr/local/lib/python3.11/dist-packages (from anyio<5.0,>=3.0->gradio==4.39.0->lavague-gradio<0.3.0,>=0.2.8->lavague) (3.10)\n",
            "Requirement already satisfied: sniffio>=1.1 in /usr/local/lib/python3.11/dist-packages (from anyio<5.0,>=3.0->gradio==4.39.0->lavague-gradio<0.3.0,>=0.2.8->lavague) (1.3.1)\n",
            "Requirement already satisfied: azure-core>=1.31.0 in /usr/local/lib/python3.11/dist-packages (from azure-identity<2.0.0,>=1.15.0->llama-index-llms-azure-openai==0.1.10->lavague-contexts-openai<0.3.0,>=0.2.0->lavague) (1.32.0)\n",
            "Requirement already satisfied: cryptography>=2.5 in /usr/local/lib/python3.11/dist-packages (from azure-identity<2.0.0,>=1.15.0->llama-index-llms-azure-openai==0.1.10->lavague-contexts-openai<0.3.0,>=0.2.0->lavague) (43.0.3)\n",
            "Requirement already satisfied: msal>=1.30.0 in /usr/local/lib/python3.11/dist-packages (from azure-identity<2.0.0,>=1.15.0->llama-index-llms-azure-openai==0.1.10->lavague-contexts-openai<0.3.0,>=0.2.0->lavague) (1.31.1)\n",
            "Requirement already satisfied: msal-extensions>=1.2.0 in /usr/local/lib/python3.11/dist-packages (from azure-identity<2.0.0,>=1.15.0->llama-index-llms-azure-openai==0.1.10->lavague-contexts-openai<0.3.0,>=0.2.0->lavague) (1.2.0)\n",
            "Requirement already satisfied: babel>=2.16.0 in /usr/local/lib/python3.11/dist-packages (from courlan>=1.2.0->trafilatura<2.0.0,>=1.9.0->lavague-core<0.3.0,>=0.2.31->lavague) (2.17.0)\n",
            "Requirement already satisfied: tld>=0.13 in /usr/local/lib/python3.11/dist-packages (from courlan>=1.2.0->trafilatura<2.0.0,>=1.9.0->lavague-core<0.3.0,>=0.2.31->lavague) (0.13)\n",
            "Requirement already satisfied: marshmallow<4.0.0,>=3.18.0 in /usr/local/lib/python3.11/dist-packages (from dataclasses-json->llama-index-core<0.11.0,>=0.10.11.post1->llama-index-embeddings-azure-openai==0.1.11->lavague-contexts-openai<0.3.0,>=0.2.0->lavague) (3.26.1)\n",
            "Requirement already satisfied: dateparser>=1.1.2 in /usr/local/lib/python3.11/dist-packages (from htmldate>=1.8.1->trafilatura<2.0.0,>=1.9.0->lavague-core<0.3.0,>=0.2.31->lavague) (1.2.1)\n",
            "Requirement already satisfied: python-dateutil>=2.9.0.post0 in /usr/local/lib/python3.11/dist-packages (from htmldate>=1.8.1->trafilatura<2.0.0,>=1.9.0->lavague-core<0.3.0,>=0.2.31->lavague) (2.9.0.post0)\n",
            "Requirement already satisfied: httpcore==1.* in /usr/local/lib/python3.11/dist-packages (from httpx->llama-index-llms-azure-openai==0.1.10->lavague-contexts-openai<0.3.0,>=0.2.0->lavague) (1.0.7)\n",
            "Requirement already satisfied: h11<0.15,>=0.13 in /usr/local/lib/python3.11/dist-packages (from httpcore==1.*->httpx->llama-index-llms-azure-openai==0.1.10->lavague-contexts-openai<0.3.0,>=0.2.0->lavague) (0.14.0)\n",
            "Requirement already satisfied: filelock in /usr/local/lib/python3.11/dist-packages (from huggingface-hub>=0.19.3->gradio==4.39.0->lavague-gradio<0.3.0,>=0.2.8->lavague) (3.17.0)\n",
            "Requirement already satisfied: parso<0.9.0,>=0.8.4 in /usr/local/lib/python3.11/dist-packages (from jedi>=0.16->ipython<8.0.0,>=7.34.0->lavague-core<0.3.0,>=0.2.31->lavague) (0.8.4)\n",
            "Requirement already satisfied: jsonpatch<2.0,>=1.33 in /usr/local/lib/python3.11/dist-packages (from langchain-core<0.2.0,>=0.1.52->langchain<0.2.0,>=0.1.20->lavague-core<0.3.0,>=0.2.31->lavague) (1.33)\n",
            "Requirement already satisfied: requests-toolbelt<2.0.0,>=1.0.0 in /usr/local/lib/python3.11/dist-packages (from langsmith<0.2.0,>=0.1.17->langchain<0.2.0,>=0.1.20->lavague-core<0.3.0,>=0.2.31->lavague) (1.0.0)\n",
            "Requirement already satisfied: llama-cloud>=0.0.11 in /usr/local/lib/python3.11/dist-packages (from llama-index-indices-managed-llama-cloud>=0.2.0->llama-index==0.10.56->lavague-core<0.3.0,>=0.2.31->lavague) (0.1.14)\n",
            "Requirement already satisfied: beautifulsoup4<5.0.0,>=4.12.3 in /usr/local/lib/python3.11/dist-packages (from llama-index-readers-file<0.2.0,>=0.1.4->llama-index==0.10.56->lavague-core<0.3.0,>=0.2.31->lavague) (4.13.3)\n",
            "Requirement already satisfied: pypdf<5.0.0,>=4.0.1 in /usr/local/lib/python3.11/dist-packages (from llama-index-readers-file<0.2.0,>=0.1.4->llama-index==0.10.56->lavague-core<0.3.0,>=0.2.31->lavague) (4.3.1)\n",
            "Requirement already satisfied: striprtf<0.0.27,>=0.0.26 in /usr/local/lib/python3.11/dist-packages (from llama-index-readers-file<0.2.0,>=0.1.4->llama-index==0.10.56->lavague-core<0.3.0,>=0.2.31->lavague) (0.0.26)\n",
            "Requirement already satisfied: llama-parse>=0.4.0 in /usr/local/lib/python3.11/dist-packages (from llama-index-readers-llama-parse>=0.1.2->llama-index==0.10.56->lavague-core<0.3.0,>=0.2.31->lavague) (0.4.9)\n",
            "Requirement already satisfied: contourpy>=1.0.1 in /usr/local/lib/python3.11/dist-packages (from matplotlib~=3.0->gradio==4.39.0->lavague-gradio<0.3.0,>=0.2.8->lavague) (1.3.1)\n",
            "Requirement already satisfied: cycler>=0.10 in /usr/local/lib/python3.11/dist-packages (from matplotlib~=3.0->gradio==4.39.0->lavague-gradio<0.3.0,>=0.2.8->lavague) (0.12.1)\n",
            "Requirement already satisfied: fonttools>=4.22.0 in /usr/local/lib/python3.11/dist-packages (from matplotlib~=3.0->gradio==4.39.0->lavague-gradio<0.3.0,>=0.2.8->lavague) (4.56.0)\n",
            "Requirement already satisfied: kiwisolver>=1.3.1 in /usr/local/lib/python3.11/dist-packages (from matplotlib~=3.0->gradio==4.39.0->lavague-gradio<0.3.0,>=0.2.8->lavague) (1.4.8)\n",
            "Requirement already satisfied: pyparsing>=2.3.1 in /usr/local/lib/python3.11/dist-packages (from matplotlib~=3.0->gradio==4.39.0->lavague-gradio<0.3.0,>=0.2.8->lavague) (3.2.1)\n",
            "Requirement already satisfied: pytz>=2020.1 in /usr/local/lib/python3.11/dist-packages (from pandas->llama-index-core<0.11.0,>=0.10.11.post1->llama-index-embeddings-azure-openai==0.1.11->lavague-contexts-openai<0.3.0,>=0.2.0->lavague) (2025.1)\n",
            "Requirement already satisfied: tzdata>=2022.7 in /usr/local/lib/python3.11/dist-packages (from pandas->llama-index-core<0.11.0,>=0.10.11.post1->llama-index-embeddings-azure-openai==0.1.11->lavague-contexts-openai<0.3.0,>=0.2.0->lavague) (2025.1)\n",
            "Requirement already satisfied: ptyprocess>=0.5 in /usr/local/lib/python3.11/dist-packages (from pexpect>4.3->ipython<8.0.0,>=7.34.0->lavague-core<0.3.0,>=0.2.31->lavague) (0.7.0)\n",
            "Requirement already satisfied: wcwidth in /usr/local/lib/python3.11/dist-packages (from prompt-toolkit!=3.0.0,!=3.0.1,<3.1.0,>=2.0.0->ipython<8.0.0,>=7.34.0->lavague-core<0.3.0,>=0.2.31->lavague) (0.2.13)\n",
            "Requirement already satisfied: annotated-types>=0.6.0 in /usr/local/lib/python3.11/dist-packages (from pydantic>=2.0->gradio==4.39.0->lavague-gradio<0.3.0,>=0.2.8->lavague) (0.7.0)\n",
            "Requirement already satisfied: pydantic-core==2.27.2 in /usr/local/lib/python3.11/dist-packages (from pydantic>=2.0->gradio==4.39.0->lavague-gradio<0.3.0,>=0.2.8->lavague) (2.27.2)\n",
            "Requirement already satisfied: greenlet!=0.4.17 in /usr/local/lib/python3.11/dist-packages (from SQLAlchemy>=1.4.49->SQLAlchemy[asyncio]>=1.4.49->llama-index-core<0.11.0,>=0.10.11.post1->llama-index-embeddings-azure-openai==0.1.11->lavague-contexts-openai<0.3.0,>=0.2.0->lavague) (3.1.1)\n",
            "Requirement already satisfied: sortedcontainers in /usr/local/lib/python3.11/dist-packages (from trio~=0.17->selenium<5.0.0,>=4.18.1->lavague-drivers-selenium<0.3.0,>=0.2.12->lavague) (2.4.0)\n",
            "Requirement already satisfied: outcome in /usr/local/lib/python3.11/dist-packages (from trio~=0.17->selenium<5.0.0,>=4.18.1->lavague-drivers-selenium<0.3.0,>=0.2.12->lavague) (1.3.0.post0)\n",
            "Requirement already satisfied: wsproto>=0.14 in /usr/local/lib/python3.11/dist-packages (from trio-websocket~=0.9->selenium<5.0.0,>=4.18.1->lavague-drivers-selenium<0.3.0,>=0.2.12->lavague) (1.2.0)\n",
            "Requirement already satisfied: click>=8.0.0 in /usr/local/lib/python3.11/dist-packages (from typer<1.0,>=0.12->gradio==4.39.0->lavague-gradio<0.3.0,>=0.2.8->lavague) (8.1.8)\n",
            "Requirement already satisfied: shellingham>=1.3.0 in /usr/local/lib/python3.11/dist-packages (from typer<1.0,>=0.12->gradio==4.39.0->lavague-gradio<0.3.0,>=0.2.8->lavague) (1.5.4)\n",
            "Requirement already satisfied: rich>=10.11.0 in /usr/local/lib/python3.11/dist-packages (from typer<1.0,>=0.12->gradio==4.39.0->lavague-gradio<0.3.0,>=0.2.8->lavague) (13.9.4)\n",
            "Requirement already satisfied: pysocks!=1.5.7,<2.0,>=1.5.6 in /usr/local/lib/python3.11/dist-packages (from urllib3[socks]<3,>=1.26->selenium<5.0.0,>=4.18.1->lavague-drivers-selenium<0.3.0,>=0.2.12->lavague) (1.7.1)\n",
            "Requirement already satisfied: starlette<0.47.0,>=0.40.0 in /usr/local/lib/python3.11/dist-packages (from fastapi->gradio==4.39.0->lavague-gradio<0.3.0,>=0.2.8->lavague) (0.46.1)\n",
            "Requirement already satisfied: six>=1.11.0 in /usr/local/lib/python3.11/dist-packages (from azure-core>=1.31.0->azure-identity<2.0.0,>=1.15.0->llama-index-llms-azure-openai==0.1.10->lavague-contexts-openai<0.3.0,>=0.2.0->lavague) (1.17.0)\n",
            "Requirement already satisfied: soupsieve>1.2 in /usr/local/lib/python3.11/dist-packages (from beautifulsoup4<5.0.0,>=4.12.3->llama-index-readers-file<0.2.0,>=0.1.4->llama-index==0.10.56->lavague-core<0.3.0,>=0.2.31->lavague) (2.6)\n",
            "Requirement already satisfied: cffi>=1.12 in /usr/local/lib/python3.11/dist-packages (from cryptography>=2.5->azure-identity<2.0.0,>=1.15.0->llama-index-llms-azure-openai==0.1.10->lavague-contexts-openai<0.3.0,>=0.2.0->lavague) (1.17.1)\n",
            "Requirement already satisfied: regex!=2019.02.19,!=2021.8.27,>=2015.06.24 in /usr/local/lib/python3.11/dist-packages (from dateparser>=1.1.2->htmldate>=1.8.1->trafilatura<2.0.0,>=1.9.0->lavague-core<0.3.0,>=0.2.31->lavague) (2024.11.6)\n",
            "Requirement already satisfied: tzlocal>=0.2 in /usr/local/lib/python3.11/dist-packages (from dateparser>=1.1.2->htmldate>=1.8.1->trafilatura<2.0.0,>=1.9.0->lavague-core<0.3.0,>=0.2.31->lavague) (5.3.1)\n",
            "Requirement already satisfied: jsonpointer>=1.9 in /usr/local/lib/python3.11/dist-packages (from jsonpatch<2.0,>=1.33->langchain-core<0.2.0,>=0.1.52->langchain<0.2.0,>=0.1.20->lavague-core<0.3.0,>=0.2.31->lavague) (3.0.0)\n",
            "Requirement already satisfied: PyJWT<3,>=1.0.0 in /usr/local/lib/python3.11/dist-packages (from PyJWT[crypto]<3,>=1.0.0->msal>=1.30.0->azure-identity<2.0.0,>=1.15.0->llama-index-llms-azure-openai==0.1.10->lavague-contexts-openai<0.3.0,>=0.2.0->lavague) (2.10.1)\n",
            "Requirement already satisfied: portalocker<3,>=1.4 in /usr/local/lib/python3.11/dist-packages (from msal-extensions>=1.2.0->azure-identity<2.0.0,>=1.15.0->llama-index-llms-azure-openai==0.1.10->lavague-contexts-openai<0.3.0,>=0.2.0->lavague) (2.10.1)\n",
            "Requirement already satisfied: joblib in /usr/local/lib/python3.11/dist-packages (from nltk<4.0.0,>=3.8.1->llama-index-core<0.11.0,>=0.10.11.post1->llama-index-embeddings-azure-openai==0.1.11->lavague-contexts-openai<0.3.0,>=0.2.0->lavague) (1.4.2)\n",
            "Requirement already satisfied: distro<2,>=1.7.0 in /usr/local/lib/python3.11/dist-packages (from openai>=1.1.0->llama-index-core<0.11.0,>=0.10.11.post1->llama-index-embeddings-azure-openai==0.1.11->lavague-contexts-openai<0.3.0,>=0.2.0->lavague) (1.9.0)\n",
            "Requirement already satisfied: jiter<1,>=0.4.0 in /usr/local/lib/python3.11/dist-packages (from openai>=1.1.0->llama-index-core<0.11.0,>=0.10.11.post1->llama-index-embeddings-azure-openai==0.1.11->lavague-contexts-openai<0.3.0,>=0.2.0->lavague) (0.8.2)\n",
            "Requirement already satisfied: markdown-it-py>=2.2.0 in /usr/local/lib/python3.11/dist-packages (from rich>=10.11.0->typer<1.0,>=0.12->gradio==4.39.0->lavague-gradio<0.3.0,>=0.2.8->lavague) (3.0.0)\n",
            "Requirement already satisfied: mypy-extensions>=0.3.0 in /usr/local/lib/python3.11/dist-packages (from typing-inspect>=0.8.0->llama-index-core<0.11.0,>=0.10.11.post1->llama-index-embeddings-azure-openai==0.1.11->lavague-contexts-openai<0.3.0,>=0.2.0->lavague) (1.0.0)\n",
            "Requirement already satisfied: pycparser in /usr/local/lib/python3.11/dist-packages (from cffi>=1.12->cryptography>=2.5->azure-identity<2.0.0,>=1.15.0->llama-index-llms-azure-openai==0.1.10->lavague-contexts-openai<0.3.0,>=0.2.0->lavague) (2.22)\n",
            "Requirement already satisfied: mdurl~=0.1 in /usr/local/lib/python3.11/dist-packages (from markdown-it-py>=2.2.0->rich>=10.11.0->typer<1.0,>=0.12->gradio==4.39.0->lavague-gradio<0.3.0,>=0.2.8->lavague) (0.1.2)\n"
          ]
        }
      ],
      "source": [
        "!pip install lavague"
      ]
    },
    {
      "cell_type": "markdown",
      "metadata": {
        "id": "CsPFyYrJlJb4"
      },
      "source": [
        "We will need to set our OpenAI Key as a Colab secret (see the key icon on the left-hand side of the Colab notebook) named 'OPENAI_API_KEY' and then convert it to an environment variable with the same name."
      ]
    },
    {
      "cell_type": "code",
      "execution_count": 2,
      "metadata": {
        "id": "szM8iq3LINtq",
        "colab": {
          "base_uri": "https://localhost:8080/",
          "height": 349
        },
        "outputId": "b4472755-f31f-407f-dc94-c51460df0893"
      },
      "outputs": [
        {
          "output_type": "error",
          "ename": "SecretNotFoundError",
          "evalue": "Secret OPENAI_API_KEY does not exist.",
          "traceback": [
            "\u001b[0;31m---------------------------------------------------------------------------\u001b[0m",
            "\u001b[0;31mSecretNotFoundError\u001b[0m                       Traceback (most recent call last)",
            "\u001b[0;32m<ipython-input-2-d082a258308e>\u001b[0m in \u001b[0;36m<cell line: 0>\u001b[0;34m()\u001b[0m\n\u001b[1;32m      9\u001b[0m \u001b[0;34m\u001b[0m\u001b[0m\n\u001b[1;32m     10\u001b[0m \u001b[0;32mif\u001b[0m \u001b[0mIN_COLAB\u001b[0m\u001b[0;34m:\u001b[0m\u001b[0;34m\u001b[0m\u001b[0;34m\u001b[0m\u001b[0m\n\u001b[0;32m---> 11\u001b[0;31m     \u001b[0mos\u001b[0m\u001b[0;34m.\u001b[0m\u001b[0menviron\u001b[0m\u001b[0;34m[\u001b[0m\u001b[0;34m\"OPENAI_API_KEY\"\u001b[0m\u001b[0;34m]\u001b[0m \u001b[0;34m=\u001b[0m \u001b[0muserdata\u001b[0m\u001b[0;34m.\u001b[0m\u001b[0mget\u001b[0m\u001b[0;34m(\u001b[0m\u001b[0;34m'OPENAI_API_KEY'\u001b[0m\u001b[0;34m)\u001b[0m\u001b[0;34m\u001b[0m\u001b[0;34m\u001b[0m\u001b[0m\n\u001b[0m\u001b[1;32m     12\u001b[0m     \u001b[0msecret_value\u001b[0m \u001b[0;34m=\u001b[0m \u001b[0muserdata\u001b[0m\u001b[0;34m.\u001b[0m\u001b[0mget\u001b[0m\u001b[0;34m(\u001b[0m\u001b[0;34m'secretName'\u001b[0m\u001b[0;34m)\u001b[0m  \u001b[0;31m# Fetch secret value only if in Colab\u001b[0m\u001b[0;34m\u001b[0m\u001b[0;34m\u001b[0m\u001b[0m\n\u001b[1;32m     13\u001b[0m \u001b[0;32melse\u001b[0m\u001b[0;34m:\u001b[0m\u001b[0;34m\u001b[0m\u001b[0;34m\u001b[0m\u001b[0m\n",
            "\u001b[0;32m/usr/local/lib/python3.11/dist-packages/google/colab/userdata.py\u001b[0m in \u001b[0;36mget\u001b[0;34m(key)\u001b[0m\n\u001b[1;32m     66\u001b[0m     \u001b[0;32mraise\u001b[0m \u001b[0mTimeoutException\u001b[0m\u001b[0;34m(\u001b[0m\u001b[0mkey\u001b[0m\u001b[0;34m)\u001b[0m\u001b[0;34m\u001b[0m\u001b[0;34m\u001b[0m\u001b[0m\n\u001b[1;32m     67\u001b[0m   \u001b[0;32mif\u001b[0m \u001b[0;32mnot\u001b[0m \u001b[0mresp\u001b[0m\u001b[0;34m.\u001b[0m\u001b[0mget\u001b[0m\u001b[0;34m(\u001b[0m\u001b[0;34m'exists'\u001b[0m\u001b[0;34m,\u001b[0m \u001b[0;32mFalse\u001b[0m\u001b[0;34m)\u001b[0m\u001b[0;34m:\u001b[0m\u001b[0;34m\u001b[0m\u001b[0;34m\u001b[0m\u001b[0m\n\u001b[0;32m---> 68\u001b[0;31m     \u001b[0;32mraise\u001b[0m \u001b[0mSecretNotFoundError\u001b[0m\u001b[0;34m(\u001b[0m\u001b[0mkey\u001b[0m\u001b[0;34m)\u001b[0m\u001b[0;34m\u001b[0m\u001b[0;34m\u001b[0m\u001b[0m\n\u001b[0m\u001b[1;32m     69\u001b[0m   \u001b[0;32mif\u001b[0m \u001b[0;32mnot\u001b[0m \u001b[0mresp\u001b[0m\u001b[0;34m.\u001b[0m\u001b[0mget\u001b[0m\u001b[0;34m(\u001b[0m\u001b[0;34m'access'\u001b[0m\u001b[0;34m,\u001b[0m \u001b[0;32mFalse\u001b[0m\u001b[0;34m)\u001b[0m\u001b[0;34m:\u001b[0m\u001b[0;34m\u001b[0m\u001b[0;34m\u001b[0m\u001b[0m\n\u001b[1;32m     70\u001b[0m     \u001b[0;32mraise\u001b[0m \u001b[0mNotebookAccessError\u001b[0m\u001b[0;34m(\u001b[0m\u001b[0mkey\u001b[0m\u001b[0;34m)\u001b[0m\u001b[0;34m\u001b[0m\u001b[0;34m\u001b[0m\u001b[0m\n",
            "\u001b[0;31mSecretNotFoundError\u001b[0m: Secret OPENAI_API_KEY does not exist."
          ]
        }
      ],
      "source": [
        "import os\n",
        "\n",
        "# Check if running in Google Colab\n",
        "try:\n",
        "    from google.colab import userdata\n",
        "    IN_COLAB = True\n",
        "except ImportError:\n",
        "    IN_COLAB = False\n",
        "\n",
        "if IN_COLAB:\n",
        "    os.environ[\"OPENAI_API_KEY\"] = userdata.get('OPENAI_API_KEY')\n",
        "    secret_value = userdata.get('secretName')  # Fetch secret value only if in Colab\n",
        "else:\n",
        "    os.environ[\"OPENAI_API_KEY\"] = os.getenv('OPENAI_API_KEY')\n",
        "    secret_value = None  # Avoid errors in non-Colab environments\n",
        "\n",
        "# Print to check (Remove in production)\n",
        "print(f\"Running in Colab: {IN_COLAB}\")\n",
        "print(f\"Secret Value: {secret_value}\")"
      ]
    },
    {
      "cell_type": "markdown",
      "metadata": {
        "id": "GhHF9m4zd8mJ"
      },
      "source": [
        "## ActionEngine\n",
        "\n",
        "**An WebAgent is made up of two components: an `ActionEngine` and a `WorldModel`.**\n",
        "\n",
        "Let's start by initializing an `ActionEngine`, which is responsible for generating automation code for text instructions and executing them."
      ]
    },
    {
      "cell_type": "code",
      "execution_count": null,
      "metadata": {
        "id": "V1sWzXVMd8mJ"
      },
      "outputs": [],
      "source": [
        "from lavague.core import ActionEngine\n",
        "from lavague.drivers.selenium import SeleniumDriver\n",
        "\n",
        "selenium_driver = SeleniumDriver()\n",
        "action_engine = ActionEngine(selenium_driver)"
      ]
    },
    {
      "cell_type": "markdown",
      "metadata": {
        "id": "s173cCGjd8mK"
      },
      "source": [
        "# World model\n",
        "\n",
        "Next, we will initialize our `WorldModel`, providing it with examples of global objectives for actions and the desired thought process and reasoning we wish it to replicate to generate the next instruction that needs to be passed to the `ActionEngine`."
      ]
    },
    {
      "cell_type": "code",
      "execution_count": null,
      "metadata": {
        "id": "obgdqBPyd8mM"
      },
      "outputs": [],
      "source": [
        "from lavague.core import WorldModel\n",
        "\n",
        "world_model = WorldModel()"
      ]
    },
    {
      "cell_type": "markdown",
      "metadata": {
        "id": "umuDUrJNbsGe"
      },
      "source": [
        "# WebAgent Demo"
      ]
    },
    {
      "cell_type": "markdown",
      "metadata": {
        "id": "3M6DerDyd8mM"
      },
      "source": [
        "We can now use these two elements to initialize a `WebAgent` and start playing with it!\n",
        "\n",
        "In the following example, we show how our agent can achieve a user-defined goal, here going on the quicktour of Hugging Face's PEFT framework for model finetuning."
      ]
    },
    {
      "cell_type": "code",
      "execution_count": null,
      "metadata": {
        "id": "6ckkvh1BF19J"
      },
      "outputs": [],
      "source": [
        "from lavague.core.agents import WebAgent\n",
        "\n",
        "agent = WebAgent(world_model, action_engine)\n",
        "\n",
        "agent.get(\"https://huggingface.co/docs\")\n",
        "agent.run(\"Go on the quicktour of PEFT\", display=True)"
      ]
    },
    {
      "cell_type": "markdown",
      "metadata": {
        "id": "BQSCeJBQlJb_"
      },
      "source": [
        "### Interactive demo mode\n",
        "\n",
        "You can also launch an interactive Gradio interface for using the agent with the `agent.demo()` method."
      ]
    },
    {
      "cell_type": "code",
      "execution_count": null,
      "metadata": {
        "id": "QHePOrRLlJcA"
      },
      "outputs": [],
      "source": [
        "from lavague.core.agents import WebAgent\n",
        "\n",
        "driver = SeleniumDriver(headless=True)\n",
        "action_engine = ActionEngine(driver)\n",
        "world_model = WorldModel()\n",
        "\n",
        "# Create Web Agent\n",
        "agent = WebAgent(world_model, action_engine)\n",
        "\n",
        "# Set URL\n",
        "agent.get(\"https://huggingface.co/docs\")\n",
        "\n",
        "# Launch the agent in the Agent Gradio Demo mode\n",
        "agent.demo(\"Go on the quicktour of PEFT\")"
      ]
    }
  ],
  "metadata": {
    "colab": {
      "machine_shape": "hm",
      "provenance": []
    },
    "kernelspec": {
      "display_name": "Python 3 (ipykernel)",
      "language": "python",
      "name": "python3"
    },
    "language_info": {
      "codemirror_mode": {
        "name": "ipython",
        "version": 3
      },
      "file_extension": ".py",
      "mimetype": "text/x-python",
      "name": "python",
      "nbconvert_exporter": "python",
      "pygments_lexer": "ipython3",
      "version": "3.10.14"
    }
  },
  "nbformat": 4,
  "nbformat_minor": 0
}